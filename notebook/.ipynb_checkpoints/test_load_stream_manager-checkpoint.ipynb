{
 "cells": [
  {
   "cell_type": "code",
   "execution_count": null,
   "id": "4ab19d40",
   "metadata": {},
   "outputs": [],
   "source": [
    "import pandas as pd\n",
    "import numpy as np"
   ]
  },
  {
   "cell_type": "code",
   "execution_count": null,
   "id": "d21b648b",
   "metadata": {},
   "outputs": [],
   "source": [
    "import sys\n",
    "from IPython.display import Image\n",
    "sys.path.append('../src')\n",
    "\n",
    "from stream_manager import StreamManager\n",
    "\n",
    "import os\n",
    "\n",
    "BASE_PATH_DIR = '../input/'\n",
    "BASE_PATH_DIR_ORG = '../data_raw/'\n",
    "\n",
    "dataset_dir = os.path.join(BASE_PATH_DIR,\"nova_preprocess.csv\")\n",
    "\n",
    "stream = StreamManager(dataset_dir,91,96)\n",
    "\n"
   ]
  },
  {
   "cell_type": "code",
   "execution_count": null,
   "id": "6f861c98",
   "metadata": {},
   "outputs": [],
   "source": [
    "def draw_example(df,time_elapsed):\n",
    "    \n",
    "    next = df.head(1).copy()\n",
    "    df_new = df.drop(0, axis=0).reset_index(drop=True)\n",
    "\n",
    "    return df_new, next, time_elapsed.pop(0)"
   ]
  },
  {
   "cell_type": "markdown",
   "id": "77be3341",
   "metadata": {},
   "source": [
    "### Framework Verification Latency"
   ]
  },
  {
   "cell_type": "code",
   "execution_count": null,
   "id": "4bd3193d",
   "metadata": {},
   "outputs": [],
   "source": [
    "Image('vl.png')"
   ]
  },
  {
   "cell_type": "markdown",
   "id": "39b3c5ea",
   "metadata": {},
   "source": [
    "### Dataset Nova - Original"
   ]
  },
  {
   "cell_type": "code",
   "execution_count": null,
   "id": "05013d06",
   "metadata": {},
   "outputs": [],
   "source": [
    "data = pd.read_csv(os.path.join(BASE_PATH_DIR_ORG,\"nova.csv\"))"
   ]
  },
  {
   "cell_type": "code",
   "execution_count": null,
   "id": "fbd1a8d1",
   "metadata": {},
   "outputs": [],
   "source": [
    "data.head(5)"
   ]
  },
  {
   "cell_type": "markdown",
   "id": "55de1fb8",
   "metadata": {},
   "source": [
    "### Dataset Nova - Verificação de latência"
   ]
  },
  {
   "cell_type": "code",
   "execution_count": null,
   "id": "fa61f408",
   "metadata": {},
   "outputs": [],
   "source": [
    "df_org = stream._new_df"
   ]
  },
  {
   "cell_type": "code",
   "execution_count": null,
   "id": "b0022b10",
   "metadata": {},
   "outputs": [],
   "source": [
    "df_org.head(5)"
   ]
  },
  {
   "cell_type": "markdown",
   "id": "e8a33208",
   "metadata": {},
   "source": [
    "### Exemplo de instância sem modificação"
   ]
  },
  {
   "cell_type": "code",
   "execution_count": null,
   "id": "407be53b",
   "metadata": {},
   "outputs": [],
   "source": [
    "df_org[df_org.daystofix==1.9344]"
   ]
  },
  {
   "cell_type": "markdown",
   "id": "3c7e365a",
   "metadata": {},
   "source": [
    "### Exemplo de instância modificada por latência wt= 91"
   ]
  },
  {
   "cell_type": "code",
   "execution_count": null,
   "id": "bff3640f",
   "metadata": {},
   "outputs": [],
   "source": [
    "df_org[df_org.daystofix==200.2101]"
   ]
  },
  {
   "cell_type": "markdown",
   "id": "f583d16e",
   "metadata": {},
   "source": [
    "########################################################################################"
   ]
  },
  {
   "cell_type": "markdown",
   "id": "11460282",
   "metadata": {},
   "source": [
    "### Dataset para o modelo "
   ]
  },
  {
   "cell_type": "code",
   "execution_count": null,
   "id": "be6990f1",
   "metadata": {},
   "outputs": [],
   "source": [
    "df = stream.load_data_with_latency()\n"
   ]
  },
  {
   "cell_type": "code",
   "execution_count": null,
   "id": "62f87265",
   "metadata": {},
   "outputs": [],
   "source": [
    "df.head(5)"
   ]
  },
  {
   "cell_type": "code",
   "execution_count": null,
   "id": "4ed5722f",
   "metadata": {},
   "outputs": [],
   "source": []
  },
  {
   "cell_type": "code",
   "execution_count": null,
   "id": "e9a41922",
   "metadata": {},
   "outputs": [],
   "source": [
    "Image('borb-mlp-3-20_gmean.png')"
   ]
  },
  {
   "cell_type": "code",
   "execution_count": null,
   "id": "7eb9384b",
   "metadata": {},
   "outputs": [],
   "source": [
    "Image('borb-mlp-3-20_recall.png')"
   ]
  },
  {
   "cell_type": "code",
   "execution_count": null,
   "id": "a31f6cde",
   "metadata": {},
   "outputs": [],
   "source": [
    "Image('borb-mlp-3-20_specificity.png')"
   ]
  },
  {
   "cell_type": "code",
   "execution_count": null,
   "id": "e1094110",
   "metadata": {},
   "outputs": [],
   "source": [
    "time_el = stream.get_time_elapsed()"
   ]
  },
  {
   "cell_type": "code",
   "execution_count": null,
   "id": "f1872f50",
   "metadata": {},
   "outputs": [],
   "source": [
    "time_el"
   ]
  },
  {
   "cell_type": "code",
   "execution_count": null,
   "id": "c7c2ab88",
   "metadata": {},
   "outputs": [],
   "source": [
    "newdf,instance,t = draw_example(df,time_el)"
   ]
  }
 ],
 "metadata": {
  "kernelspec": {
   "display_name": "Python 3",
   "language": "python",
   "name": "python3"
  },
  "language_info": {
   "codemirror_mode": {
    "name": "ipython",
    "version": 3
   },
   "file_extension": ".py",
   "mimetype": "text/x-python",
   "name": "python",
   "nbconvert_exporter": "python",
   "pygments_lexer": "ipython3",
   "version": "3.6.12"
  }
 },
 "nbformat": 4,
 "nbformat_minor": 5
}
