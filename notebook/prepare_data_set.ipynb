{
 "cells": [
  {
   "cell_type": "code",
   "execution_count": null,
   "id": "7d2fcaef",
   "metadata": {},
   "outputs": [],
   "source": [
    "## Notebook to prepare dataset"
   ]
  },
  {
   "cell_type": "markdown",
   "id": "3f7caecb",
   "metadata": {},
   "source": [
    "## Datasets ignorados"
   ]
  },
  {
   "cell_type": "markdown",
   "id": "4185bb4b",
   "metadata": {},
   "source": [
    " 1. brackets : Sem coluna daystofix\n",
    " 2. camel : Sem coluna daystofix\n",
    " 3. fabric8 :  Sem coluna daystofix\n",
    " 4. jgroups :  Sem coluna daystofix\n",
    " 5. neutron :  Sem coluna daystofix\n",
    " 6. tomcat :  Sem coluna daystofix\n",
    " \n",
    "**Investigar** como criar coluna daystofix "
   ]
  },
  {
   "cell_type": "code",
   "execution_count": null,
   "id": "e3bdb4eb",
   "metadata": {},
   "outputs": [],
   "source": [
    "import os,gc\n",
    "import numpy as np\n",
    "from copy import copy\n",
    "from glob import glob\n",
    "import pandas as pd\n",
    "pd.set_option('display.max_columns', 500)\n",
    "import warnings\n",
    "warnings.filterwarnings(\"ignore\")"
   ]
  },
  {
   "cell_type": "code",
   "execution_count": null,
   "id": "29cdc8a8",
   "metadata": {},
   "outputs": [],
   "source": [
    "BASE_PATH_DIR = '../data_raw'\n",
    "SAVE_PATH_DIR = '../input/'"
   ]
  },
  {
   "cell_type": "code",
   "execution_count": null,
   "id": "e119c1d6",
   "metadata": {},
   "outputs": [],
   "source": [
    "dataset_dir = os.path.join(SAVE_PATH_DIR,\"nova_preprocess.csv\")"
   ]
  },
  {
   "cell_type": "code",
   "execution_count": null,
   "id": "ebb1c418",
   "metadata": {},
   "outputs": [],
   "source": [
    "from pandas import DataFrame\n",
    "\n",
    "\n",
    "def move_columns(df: DataFrame, cols_to_move: list, new_index: int) -> DataFrame:\n",
    "    \"\"\"\n",
    "    This method re-arranges the columns in a dataframe to place the desired columns at the desired index.\n",
    "    ex Usage: df = move_columns(df, ['Rev'], 2)   \n",
    "    :param df:\n",
    "    :param cols_to_move: The names of the columns to move. They must be a list\n",
    "    :param new_index: The 0-based location to place the columns.\n",
    "    :return: Return a dataframe with the columns re-arranged\n",
    "    \"\"\"\n",
    "    other = [c for c in df if c not in cols_to_move]\n",
    "    start = other[0:new_index]\n",
    "    end = other[new_index:]\n",
    "    return df[start + cols_to_move + end]"
   ]
  },
  {
   "cell_type": "code",
   "execution_count": null,
   "id": "3ca18dea",
   "metadata": {},
   "outputs": [],
   "source": [
    "# Columns to read\n",
    "columns = ['hashcode', 'fix', 'ns', 'nd', 'nf', 'entrophy', 'la', 'ld', 'lt',\n",
    "                        'ndev', 'age', 'nuc', 'exp', 'rexp', 'sexp',\n",
    "                        'containsbug', 'timestamp','daystofix']"
   ]
  },
  {
   "cell_type": "code",
   "execution_count": null,
   "id": "2c1722b4",
   "metadata": {},
   "outputs": [],
   "source": [
    "rename_dict = {\n",
    "    'timestamp': 'arrival_time',\n",
    "    'containsbug': 'class'}"
   ]
  },
  {
   "cell_type": "code",
   "execution_count": null,
   "id": "200057da",
   "metadata": {},
   "outputs": [],
   "source": [
    "dtypes ={ 'fix': np.int8,\n",
    " 'ns': np.int64,\n",
    " 'nd': np.int64,\n",
    " 'nf': np.int64,\n",
    " 'entrophy': np.float64,\n",
    " 'la': np.int64,\n",
    " 'ld': np.int64,\n",
    " 'lt': np.float64,\n",
    " 'ndev': np.int64,\n",
    " 'age': np.float64,\n",
    " 'nuc': np.int64,\n",
    " 'exp': np.float64,\n",
    " 'rexp': np.float64,\n",
    " 'sexp':np.int64,\n",
    " 'class': np.int8,\n",
    " 'arrival_time': np.int64,\n",
    " 'daystofix': np.float64}"
   ]
  },
  {
   "cell_type": "code",
   "execution_count": null,
   "id": "ca165044",
   "metadata": {},
   "outputs": [],
   "source": [
    "# converting fix column to int\n",
    "def f_bool(x):\n",
    "    if x == 'False':\n",
    "        x = np.int8(0)\n",
    "    elif x == 'True':\n",
    "        x = np.int8(1)\n",
    "    return x"
   ]
  },
  {
   "cell_type": "code",
   "execution_count": null,
   "id": "ebff1f3a",
   "metadata": {},
   "outputs": [],
   "source": [
    "dataset_list = []\n",
    "for dirname, _, filenames in os.walk(BASE_PATH_DIR):\n",
    "    for filename in filenames:\n",
    "         \n",
    "        if os.path.join(dirname, filename).split('.')[-1]=='csv':\n",
    "               dataset_list.append(os.path.join(dirname, filename))"
   ]
  },
  {
   "cell_type": "code",
   "execution_count": null,
   "id": "444a62a8",
   "metadata": {},
   "outputs": [],
   "source": [
    "for data in dataset_list:\n",
    "    #print(data)\n",
    "    df = pd.read_csv(data)\n",
    "    df.columns = df.columns.str.strip()\n",
    "    df['fix'] = df.fix.str.strip()\n",
    "    df['fix'] = df.fix.apply(f_bool)\n",
    "    df['containsbug'] = df.containsbug.str.strip()\n",
    "    df['containsbug'] = df.containsbug.apply(f_bool)\n",
    "    #removing hashcode column\n",
    "    # df.drop(['hashcode'],axis=1,inplace=True)\n",
    "    \n",
    "    df.rename(columns=rename_dict, inplace=True)\n",
    "    df = df.astype(dtypes)\n",
    "    index_class = df.shape[1] -1\n",
    "    df = move_columns(df,['class'],index_class)\n",
    "    #save nova dataset preprocess\n",
    "    file_name = data.split('\\\\')[-1].split('.')[-2]\n",
    "    #print(file_name)\n",
    "    if not os.path.isfile(os.path.join(SAVE_PATH_DIR,f'{file_name}'+'_preprocess.csv')):\n",
    "        df.to_csv(os.path.join(SAVE_PATH_DIR,f'{file_name}'+'_preprocess.csv'),index=False)\n",
    "        print('Dataset {} saved'.format(f'{file_name}'+'_preprocess.csv'))\n",
    "        "
   ]
  },
  {
   "cell_type": "code",
   "execution_count": null,
   "id": "87346de2",
   "metadata": {},
   "outputs": [],
   "source": [
    "# TODO função ou class para formação do dataset com verification latency\n",
    "df = pd.read_csv(dataset_dir)\n",
    "df.shape"
   ]
  }
 ],
 "metadata": {
  "kernelspec": {
   "display_name": "Python 3",
   "language": "python",
   "name": "python3"
  },
  "language_info": {
   "codemirror_mode": {
    "name": "ipython",
    "version": 3
   },
   "file_extension": ".py",
   "mimetype": "text/x-python",
   "name": "python",
   "nbconvert_exporter": "python",
   "pygments_lexer": "ipython3",
   "version": "3.6.12"
  }
 },
 "nbformat": 4,
 "nbformat_minor": 5
}
